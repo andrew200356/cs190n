{
 "cells": [
  {
   "cell_type": "markdown",
   "metadata": {},
   "source": [
    "**Fugu**\n",
    "- Video streaming is the predominant Interet application, and a key question in video streaming is adaptive bitrate selection (ABR), which decides the compression level selected for each chunk/segment of the video. \n",
    "- Fugu: a data-driven ABR algorithm that is basead on model predictive control, but replaces its throughput predictor with a deep NN trained using supervised learning on data recorded in situ (in place), meaning from Fugu's actual deployment environment, Puffer.  \n",
    "- Objective function: For each chunk, Fugu has a selection of versions of this chunk to choose from \n",
    "- Once Fugu decides which chunk to send, we know 2 portionso of the QoE: video quality and video quality variation. Fugu uses a trained NN transmission-time predictor (TTP) \n",
    "- For training the TTP, sample from real data collected by any scheme running on Puffer and feed individual user streams to the TTP as training input. Retrain the TTP every day. "
   ]
  },
  {
   "cell_type": "markdown",
   "metadata": {},
   "source": [
    "Puffer: https://puffer.stanford.edu \n",
    "\n",
    "Puffer is a Stanford University Research study about using ML to improve video-streaming applications, which are used by services such as Youtube, Netflix, ad Twitch. It aims to figure out how to teach a computer to design new algorithms to reduce glitches/stalls in streaming video, improve picture quality, and predict how the capacity of an internet connection will change over time. \n",
    "\n",
    "Data Description: https://puffer.stanford.edu/data-description/\n"
   ]
  },
  {
   "cell_type": "code",
   "execution_count": null,
   "metadata": {},
   "outputs": [],
   "source": [
    "import pandas as pd \n",
    "# load in all the data from the data folder "
   ]
  },
  {
   "cell_type": "markdown",
   "metadata": {},
   "source": [
    "Task 1: Convert SSIM (structural similarity index measure, which is a method for predicting the percieved video quality) to decibels (dB) using this formula: -10 * np.log10(1 - video_sent['ssim_index'])"
   ]
  },
  {
   "cell_type": "code",
   "execution_count": null,
   "metadata": {},
   "outputs": [],
   "source": []
  },
  {
   "cell_type": "markdown",
   "metadata": {},
   "source": [
    "Task 2: Group by session ID, then plot the CDF of average SSIM per session"
   ]
  },
  {
   "cell_type": "code",
   "execution_count": null,
   "metadata": {},
   "outputs": [],
   "source": []
  },
  {
   "cell_type": "markdown",
   "metadata": {},
   "source": [
    "Task 3: Plot the CDF of SSIM of the first chunk (first entry of every session)"
   ]
  },
  {
   "cell_type": "code",
   "execution_count": null,
   "metadata": {},
   "outputs": [],
   "source": []
  },
  {
   "cell_type": "markdown",
   "metadata": {},
   "source": [
    "Task 4: Plot the Standard deviation of SSIM vs the standard deviation of delivery-rate per session, as a scatter plot"
   ]
  },
  {
   "cell_type": "code",
   "execution_count": null,
   "metadata": {},
   "outputs": [],
   "source": []
  },
  {
   "cell_type": "markdown",
   "metadata": {},
   "source": [
    "Task 5: Plot the CDF of the average, max, and min delivery rate of each session in the same plot "
   ]
  },
  {
   "cell_type": "code",
   "execution_count": null,
   "metadata": {},
   "outputs": [],
   "source": []
  },
  {
   "cell_type": "markdown",
   "metadata": {},
   "source": [
    "Task 6: Show the number of rebuffing per session (Hint: look at the Puffer data description)"
   ]
  },
  {
   "cell_type": "code",
   "execution_count": null,
   "metadata": {},
   "outputs": [],
   "source": []
  },
  {
   "cell_type": "markdown",
   "metadata": {},
   "source": [
    "Task 7: Plot the average delivery rate vs average SSIM, as a scatter plot. "
   ]
  },
  {
   "cell_type": "code",
   "execution_count": null,
   "metadata": {},
   "outputs": [],
   "source": []
  }
 ],
 "metadata": {
  "kernelspec": {
   "display_name": "Python 3",
   "language": "python",
   "name": "python3"
  },
  "language_info": {
   "codemirror_mode": {
    "name": "ipython",
    "version": 3
   },
   "file_extension": ".py",
   "mimetype": "text/x-python",
   "name": "python",
   "nbconvert_exporter": "python",
   "pygments_lexer": "ipython3",
   "version": "3.10.12"
  }
 },
 "nbformat": 4,
 "nbformat_minor": 2
}
