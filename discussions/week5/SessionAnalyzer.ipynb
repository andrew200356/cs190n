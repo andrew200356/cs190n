{
 "cells": [
  {
   "cell_type": "code",
   "execution_count": 2,
   "id": "5d3fb6e1-6a0b-4d40-b5d9-8a0f61fdf3fe",
   "metadata": {},
   "outputs": [],
   "source": [
    "import subprocess, os, sys, json, time, datetime, re, csv, random, string, math, copy, shutil, scipy\n",
    "import pandas as pd\n",
    "from multiprocessing import Pool\n",
    "import numpy as np \n",
    "import matplotlib.pyplot as plt\n",
    "import seaborn as sns\n",
    "from matplotlib.ticker import ScalarFormatter\n",
    "import seaborn as sns\n",
    "from datetime import timedelta, datetime\n",
    "from scapy.all import rdpcap\n",
    "import matplotlib.dates as mdates\n",
    "from matplotlib.ticker import MultipleLocator\n",
    "from AnalyzeFunctions import *"
   ]
  },
  {
   "cell_type": "code",
   "execution_count": 3,
   "id": "7399e788",
   "metadata": {},
   "outputs": [],
   "source": [
    "#Puffer Dataset Schema: https://puffer.stanford.edu/data-description/\n",
    "input_dir = '/home/laasya/cs190n-fall-2024/discussions/week5/files/shapeAndBg/' #change this to your specific directory \n",
    "video_sent, video_acked, buf, video_start_time , video_end_time =  load_log_files(input_dir)\n",
    "\n",
    "bg = load_throughput_data(input_dir, 'bg.pcap', video_start_time, video_end_time)\n",
    "bg_throughput, bg_time, bg_avergae_throughput, bg_burstiness = bg\n",
    "puffer = load_throughput_data(input_dir, 'puffer.pcap', video_start_time, video_end_time)\n",
    "puffer_throughput, puffer_time, puffer_average_throughput, puffer_burstiness = puffer\n"
   ]
  },
  {
   "cell_type": "markdown",
   "id": "dd5aa61d",
   "metadata": {},
   "source": [
    "Task 1\n",
    "Note: Throughput refers to the rate at which data is successfully transmitted over a network or communication channel\n",
    "1. Plot the throughput of Puffer traffic \n",
    "2. Plot background traffic throughput \n",
    "3. Plot both background and Puffer traffic throughput within the same plot (400Mbps) \n",
    "4. Plot the background traffic throughput per epoch of 6 seconds \n",
    "5. Plot the Puffer traffic throughput per epoch of 6 seconds"
   ]
  },
  {
   "cell_type": "code",
   "execution_count": null,
   "id": "93c866b5",
   "metadata": {},
   "outputs": [],
   "source": [
    "custom_title = \"without background and LibreQoS\"\n",
    "draw_puffer_traces(puffer, None,custom_title)\n",
    "draw_bg_traces(bg, y_limits=(0,4.3),custom_title= \"without background \")\n",
    "draw_traces_throughput(bg , puffer, custom_title= \"(400Mbps)\")\n",
    "draw_traces_epoch(bg, 6,  y_limits=None , x_limits = None, custom_title='background traffic after shaping')\n",
    "draw_traces_epoch(puffer, 6,  y_limits=None, x_limits = None,custom_title='puffer traffic after shaping')"
   ]
  },
  {
   "cell_type": "markdown",
   "id": "ad182684",
   "metadata": {},
   "source": [
    "Task 2: \n",
    "1. Visualize the delivery rate of video rate over time \n",
    "2. Visualize the buffer occupancy over time \n",
    "3. Visualize the size of video chunks that are sent during playback \n",
    "4. Visualize the Structural Similarity Index (SSM), a measure of video quality, over time \n",
    "5. Visualize the video bitrate over time (amount of data processed per unit of time in a video stream)"
   ]
  },
  {
   "cell_type": "code",
   "execution_count": null,
   "id": "302a3475",
   "metadata": {},
   "outputs": [],
   "source": [
    "custom_title = \"with background traffic\"\n",
    "draw_delivery_rate(video_sent, None , custom_title)\n",
    "draw_buffer(buf, None, custom_title=custom_title)\n",
    "draw_video_chunk_size(video_sent, None ,custom_title)\n",
    "draw_ssim(video_sent, None, custom_title)\n",
    "draw_video_bitrate(video_sent, None, custom_title)"
   ]
  },
  {
   "cell_type": "markdown",
   "id": "f3e1e2ac",
   "metadata": {},
   "source": [
    "Task 3: \n",
    "Visualize the throughput of video data delivery over time "
   ]
  },
  {
   "cell_type": "code",
   "execution_count": null,
   "id": "25532205",
   "metadata": {},
   "outputs": [],
   "source": [
    "draw_sent_acked(video_sent, video_acked, y_limits=None, custom_title=custom_title)"
   ]
  }
 ],
 "metadata": {
  "kernelspec": {
   "display_name": "Python 3",
   "language": "python",
   "name": "python3"
  },
  "language_info": {
   "codemirror_mode": {
    "name": "ipython",
    "version": 3
   },
   "file_extension": ".py",
   "mimetype": "text/x-python",
   "name": "python",
   "nbconvert_exporter": "python",
   "pygments_lexer": "ipython3",
   "version": "3.10.12"
  }
 },
 "nbformat": 4,
 "nbformat_minor": 5
}
