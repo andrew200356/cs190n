{
 "cells": [
  {
   "cell_type": "markdown",
   "id": "68765e8a",
   "metadata": {},
   "source": [
    "# Assignment 2\n",
    "In this assignment you will be writing netunicorn experiments to measure 'latency-under-load'.  \n",
    "\n",
    "## Due Date: November 8th    \n",
    "Please submit a PDF verion of this notebook with all the cells evaluated and answers displayed.  "
   ]
  },
  {
   "cell_type": "code",
   "execution_count": 2,
   "id": "849ba797",
   "metadata": {},
   "outputs": [],
   "source": [
    "import os\n",
    "import time\n",
    "import random\n",
    "import time\n",
    "import requests \n",
    "import re\n",
    "import logging\n",
    "import subprocess\n",
    "from subprocess import Popen\n",
    "from sys import platform\n",
    "import os, sys\n",
    "import logging\n",
    "import json\n",
    "import threading\n",
    "import numpy as np\n",
    "\n",
    "import subprocess\n",
    "import time\n",
    "import signal\n",
    "from typing import Dict\n",
    "\n",
    "from netunicorn.base.architecture import Architecture\n",
    "from netunicorn.base.nodes import Node\n",
    "from netunicorn.base.task import Failure, Task, TaskDispatcher\n",
    "\n",
    "\n",
    "from netunicorn.client.remote import RemoteClient, RemoteClientException\n",
    "from netunicorn.base import Experiment, ExperimentStatus, Pipeline\n",
    "from netunicorn.library.tasks.basic import SleepTask\n",
    "from netunicorn.library.tasks.measurements.ookla_speedtest import SpeedTest\n",
    "from netunicorn.library.tasks.measurements.ping import Ping\n",
    "from netunicorn.base.architecture import Architecture\n",
    "from netunicorn.base.nodes import Node\n",
    "from netunicorn.base.task import Failure, Task, TaskDispatcher\n",
    "from netunicorn.base import Result, Failure, Success, Task, TaskDispatcher\n",
    "from netunicorn.base.architecture import Architecture\n",
    "from netunicorn.base.nodes import Node\n",
    "\n",
    "from typing import Dict\n",
    "from typing import Optional\n",
    "from enum import IntEnum\n",
    "from datetime import datetime\n",
    "\n",
    "from returns.pipeline import is_successful\n",
    "from returns.result import Failure"
   ]
  },
  {
   "cell_type": "markdown",
   "id": "7ac2097c",
   "metadata": {},
   "source": [
    "### Helper Functions\n",
    "We have defined two helper functions for executing pipelines and displaying the results from the pipeline execution that you may use."
   ]
  },
  {
   "cell_type": "code",
   "execution_count": 3,
   "id": "5611a284",
   "metadata": {},
   "outputs": [],
   "source": [
    "def execute_pipeline(pipeline, working_node, experiment_label):\n",
    "    client = RemoteClient(endpoint=NETUNICORN_ENDPOINT, login=NETUNICORN_LOGIN, password=NETUNICORN_PASSWORD)\n",
    "    nodes = client.get_nodes()\n",
    "    working_nodes = nodes.filter(lambda node: node.name.startswith(working_node)).take(1)\n",
    "    experiment = Experiment().map(pipeline, working_nodes)\n",
    "\n",
    "    try:\n",
    "        client.delete_experiment(experiment_label)\n",
    "    except RemoteClientException:\n",
    "        pass\n",
    "\n",
    "    # Prepare Experiment\n",
    "    client.prepare_experiment(experiment, experiment_label)\n",
    "    while True:\n",
    "        info = client.get_experiment_status(experiment_label)\n",
    "        print(info.status)\n",
    "        if info.status == ExperimentStatus.READY:\n",
    "            break\n",
    "        time.sleep(20)\n",
    "\n",
    "    time.sleep(5)\n",
    "\n",
    "    # Execute Experiment\n",
    "    client.start_execution(experiment_label)\n",
    "    while True:\n",
    "        info = client.get_experiment_status(experiment_label)\n",
    "        print(info.status)\n",
    "        if info.status != ExperimentStatus.RUNNING:\n",
    "            break\n",
    "        time.sleep(20)\n",
    "    return info"
   ]
  },
  {
   "cell_type": "code",
   "execution_count": 4,
   "id": "cfc03216",
   "metadata": {},
   "outputs": [],
   "source": [
    "def display_results(info):\n",
    "    # Get Results\n",
    "    for report in info.execution_result:\n",
    "        print(f\"Node name: {report.node.name}\")\n",
    "        print(f\"Error: {report.error}\")\n",
    "\n",
    "        if report.result is None:\n",
    "            print(\"report.result is EMPTY..\")\n",
    "            continue\n",
    "\n",
    "        result, log = report.result  # report stores results of execution and corresponding log\n",
    "\n",
    "        # result is a returns.result.Result object, could be Success of Failure\n",
    "        print(f\"Result is: {type(result)}\")\n",
    "        if is_successful(result):\n",
    "            data = result.unwrap()\n",
    "        else:\n",
    "            data = result.failure()\n",
    "        try:\n",
    "            for key, value in data.items():\n",
    "                print(f\"{key}: {value}\")\n",
    "        except:\n",
    "            print(f\"No attribute 'items' in result\")\n",
    "\n",
    "        # we also can explore logs\n",
    "        for line in log:\n",
    "            print(line.strip())\n",
    "        print()"
   ]
  },
  {
   "cell_type": "markdown",
   "id": "3de45fb3",
   "metadata": {},
   "source": [
    "### Task 0\n",
    "Set your credentials for accessing the UCSB netUnicorn deployment below. View the working nodes and choose 1 working node that you will be using for this assignment."
   ]
  },
  {
   "cell_type": "code",
   "execution_count": 5,
   "id": "c7c457ea",
   "metadata": {
    "scrolled": true
   },
   "outputs": [
    {
     "name": "stdout",
     "output_type": "stream",
     "text": [
      "Health Check: True\n",
      "[<Uncountable node pool with next node template: [aws-fargate-A-cs190n7-, aws-fargate-B-cs190n7-, aws-fargate-ARM64-cs190n7-]>]\n"
     ]
    }
   ],
   "source": [
    "# TODO: fill in your login / password below\n",
    "netunicorn_login = 'cs190n7'\n",
    "netunicorn_password = 'xFunhnNh'\n",
    "\n",
    "NETUNICORN_ENDPOINT = os.environ.get('NETUNICORN_ENDPOINT', 'https://pinot.cs.ucsb.edu/netunicorn')\n",
    "NETUNICORN_LOGIN = os.environ.get('NETUNICORN_LOGIN', netunicorn_login)\n",
    "NETUNICORN_PASSWORD = os.environ.get('NETUNICORN_PASSWORD', netunicorn_password)\n",
    "\n",
    "client = RemoteClient(endpoint=NETUNICORN_ENDPOINT, login=NETUNICORN_LOGIN, password=NETUNICORN_PASSWORD)\n",
    "print(\"Health Check: {}\".format(client.healthcheck()))\n",
    "nodes = client.get_nodes()\n",
    "print(nodes)"
   ]
  },
  {
   "cell_type": "code",
   "execution_count": 6,
   "id": "dafc8168",
   "metadata": {},
   "outputs": [],
   "source": [
    "# TODO: fill in the name of your working node\n",
    "working_node = 'aws-fargate-A-cs190n7-'"
   ]
  },
  {
   "cell_type": "code",
   "execution_count": 7,
   "id": "0e5dff32",
   "metadata": {},
   "outputs": [
    {
     "name": "stdout",
     "output_type": "stream",
     "text": [
      "Selected working node: aws-fargate-A-cs190n7-\n"
     ]
    }
   ],
   "source": [
    "print(\"Selected working node:\", working_node)"
   ]
  },
  {
   "cell_type": "markdown",
   "id": "370c8f98",
   "metadata": {},
   "source": [
    "### Task 1\n",
    "Create a pipeline to collect latency data to Google's public DNS (8.8.8.8) from your working node using the [Ping](https://github.com/netunicorn/netunicorn-library/blob/main/tasks/measurements/ping.py) task.   \n",
    "Report the average latency over 5 ICMP probes to the address 8.8.8.8"
   ]
  },
  {
   "cell_type": "code",
   "execution_count": 8,
   "id": "3982dac0",
   "metadata": {},
   "outputs": [],
   "source": [
    "# TODO: fill in the correct arguments for the Ping() task\n",
    "pipeline = (\n",
    "    Pipeline()\n",
    "    .then(Ping(address=\"8.8.8.8\",count=5))\n",
    ")"
   ]
  },
  {
   "cell_type": "code",
   "execution_count": 8,
   "id": "a666fec6",
   "metadata": {
    "scrolled": true
   },
   "outputs": [
    {
     "name": "stdout",
     "output_type": "stream",
     "text": [
      "ExperimentStatus.PREPARING\n",
      "ExperimentStatus.PREPARING\n",
      "ExperimentStatus.READY\n",
      "ExperimentStatus.RUNNING\n",
      "ExperimentStatus.RUNNING\n",
      "ExperimentStatus.FINISHED\n",
      "Node name: aws-fargate-A-cs190n7-1\n",
      "Error: None\n",
      "Result is: <class 'returns.result.Success'>\n",
      "36eb7f75-c778-4a96-94b1-229bb59de9ff: [<Success: PingResult(host='8.8.8.8', packets=[PacketResult(icmp_seq=1, ttl=118, time=1.38, unit='ms'), PacketResult(icmp_seq=2, ttl=118, time=1.37, unit='ms'), PacketResult(icmp_seq=3, ttl=118, time=1.41, unit='ms'), PacketResult(icmp_seq=4, ttl=118, time=1.36, unit='ms'), PacketResult(icmp_seq=5, ttl=118, time=1.38, unit='ms')], packet_loss=0.0, min_rtt=1.359, avg_rtt=1.378, max_rtt=1.409, stddev_rtt=0.017, unit_rtt='ms', unparsed_output=[], raw_output='PING 8.8.8.8 (8.8.8.8) 56(84) bytes of data.\\n64 bytes from 8.8.8.8: icmp_seq=1 ttl=118 time=1.38 ms\\n64 bytes from 8.8.8.8: icmp_seq=2 ttl=118 time=1.37 ms\\n64 bytes from 8.8.8.8: icmp_seq=3 ttl=118 time=1.41 ms\\n64 bytes from 8.8.8.8: icmp_seq=4 ttl=118 time=1.36 ms\\n64 bytes from 8.8.8.8: icmp_seq=5 ttl=118 time=1.38 ms\\n\\n--- 8.8.8.8 ping statistics ---\\n5 packets transmitted, 5 received, 0% packet loss, time 4005ms\\nrtt min/avg/max/mdev = 1.359/1.378/1.409/0.017 ms\\n\\n')>]\n",
      "Parsed configuration: Gateway located on https://pinot.cs.ucsb.edu/netunicorn/gateway\n",
      "Current directory: /\n",
      "Execution graph loaded from a local file, executing.\n",
      "Execution is finished, start reporting results.\n",
      "\n"
     ]
    }
   ],
   "source": [
    "info = execute_pipeline(pipeline, working_node, 'ping_experiment')\n",
    "display_results(info)"
   ]
  },
  {
   "cell_type": "code",
   "execution_count": 9,
   "id": "015a0607",
   "metadata": {},
   "outputs": [
    {
     "name": "stdout",
     "output_type": "stream",
     "text": [
      "Average Latency: 1.3800 ms\n"
     ]
    }
   ],
   "source": [
    "# TODO: Fill the latency samples array with the latency values returned by the Ping task\n",
    "latency_samples = [\n",
    "    1.38,  # icmp_seq=1\n",
    "    1.37,  # icmp_seq=2\n",
    "    1.41,  # icmp_seq=3\n",
    "    1.36,  # icmp_seq=4\n",
    "    1.38   # icmp_seq=5\n",
    "]\n",
    "print(\"Average Latency: {:.4f} ms\".format(np.mean(latency_samples)))"
   ]
  },
  {
   "cell_type": "markdown",
   "id": "3081bcc4",
   "metadata": {},
   "source": [
    "### Task 2\n",
    "Now we will define a new task, StartBackgroundPing that behaves similar to the Ping task, however it starts the process in the background, so further tasks in the pipeline will execute in parallel with our latency measurements.  \n",
    "\n",
    "Implement the **run()** function in the **StartBackgroundPingLinuxImplementation** class"
   ]
  },
  {
   "cell_type": "code",
   "execution_count": 10,
   "id": "9125696b",
   "metadata": {},
   "outputs": [],
   "source": [
    "class StartBackgroundPing(TaskDispatcher):\n",
    "    def __init__(self, address: str, filepath: str, timeout: int = 120, *args, **kwargs):\n",
    "        super().__init__(*args, **kwargs)\n",
    "        self.address = address\n",
    "        self.filepath = filepath\n",
    "        self.timeout = timeout\n",
    "        self.linux_implementation = StartBackgroundPingLinuxImplementation(\n",
    "            address=self.address,\n",
    "            filepath=self.filepath,\n",
    "            timeout=self.timeout,\n",
    "            *args,\n",
    "            **kwargs\n",
    "        )\n",
    "\n",
    "    def dispatch(self, node: Node) -> Task:\n",
    "        if node.architecture in {Architecture.LINUX_AMD64, Architecture.LINUX_ARM64}:\n",
    "            return self.linux_implementation\n",
    "        raise NotImplementedError(\n",
    "            f'StartBackgroundPing is not implemented for architecture: {node.architecture}'\n",
    "        )\n",
    "\n",
    "class StartBackgroundPingLinuxImplementation(Task):\n",
    "    def __init__(self, address: str, filepath: str, timeout: int = 120, *args, **kwargs):\n",
    "        self.address = address.strip()\n",
    "        self.filepath = filepath\n",
    "        self.timeout = timeout\n",
    "        super().__init__(*args, **kwargs)\n",
    "    \n",
    "    # TODO: implement the run() function\n",
    "    def run(self):\n",
    "        # 1. open self.filepath in write mode\n",
    "        outfile = open(self.filepath, \"w\")  # Corrected here with \"w\" as a string\n",
    "\n",
    "        # 2. Set the `args` argument for Popen to execute the command `ping -t self.timeout`\n",
    "        # 3. Set the optional arguments stdout and stderr to the file object opened for self.filepath\n",
    "        proc = subprocess.Popen(\n",
    "            ['ping', '-w', str(self.timeout), self.address],\n",
    "            stdout=outfile,\n",
    "            stderr=outfile\n",
    "        )\n",
    "        \n",
    "        time.sleep(2)\n",
    "        if (exit_code := proc.poll()) is None:  # not finished yet\n",
    "            return Success(proc.pid)\n",
    "        return Failure(f\"StartBackgroundPing failed with return code {exit_code}\")"
   ]
  },
  {
   "cell_type": "markdown",
   "id": "0e8dac49",
   "metadata": {},
   "source": [
    "Below, we define a complementary task, StopBackgroundPing to kill our ping process so it doesn't always execute until the timeout. By specifying an optional argument `name` to our StartBackgroundPing task, we can look up the results for this task using the `self.previous_steps` object, to retrieve the PID of the ping process that we return in the StartBackgroundPing task."
   ]
  },
  {
   "cell_type": "code",
   "execution_count": 11,
   "id": "aa40c74c",
   "metadata": {},
   "outputs": [],
   "source": [
    "class StopBackgroundPing(TaskDispatcher):\n",
    "    def __init__(self, start_ping_task_name : str, *args, **kwargs):\n",
    "        super().__init__(*args, **kwargs)\n",
    "        self.start_ping_task_name = start_ping_task_name\n",
    "        self.linux_implementation = StopBackgroundPingLinuxImplementation(\n",
    "            ping_task_name=self.start_ping_task_name,\n",
    "            *args,\n",
    "            **kwargs,\n",
    "        )\n",
    "    def dispatch(self, node: Node) -> Task:\n",
    "        if node.architecture in {Architecture.LINUX_AMD64, Architecture.LINUX_ARM64}:\n",
    "            return self.linux_implementation\n",
    "\n",
    "        raise NotImplementedError(\n",
    "            f'StopBackgroundPing is not implemented for {node.architecture}'\n",
    "        )\n",
    "\n",
    "class StopBackgroundPingLinuxImplementation(Task):\n",
    "    requirements = [\"sudo apt-get update\", \"sudo apt-get install -y tcpdump\", \"sudo apt-get install -y procps\"]\n",
    "\n",
    "    def __init__(self, ping_task_name: str, *args, **kwargs):\n",
    "        super().__init__(*args, **kwargs)\n",
    "        self.ping_task_name = ping_task_name\n",
    "\n",
    "    def run(self):\n",
    "        signal.signal(signal.SIGCHLD, signal.SIG_IGN)\n",
    "        pid = self.previous_steps.get(self.ping_task_name, [Failure(\"Named StartBackgroundPing not found\")])[-1]\n",
    "        if isinstance(pid, Failure):\n",
    "            return pid\n",
    "\n",
    "        pid = pid.unwrap()\n",
    "        return subprocess.check_output([\"kill\", str(pid)])"
   ]
  },
  {
   "cell_type": "markdown",
   "id": "11a198de",
   "metadata": {},
   "source": [
    "### Task 3\n",
    "Now we will define a new task, GetFileContents that will output the results that we wrote to a file in the StartBackgroundPing task. This task simply prints the content of a file to stdout.\n",
    "\n",
    "Implement the **run()** function in the **GetFileContents** class"
   ]
  },
  {
   "cell_type": "code",
   "execution_count": 12,
   "id": "0c3f4c7f",
   "metadata": {},
   "outputs": [],
   "source": [
    "class GetFileContents(TaskDispatcher):\n",
    "    def __init__(self, filepath: str, *args, **kwargs):\n",
    "        super().__init__(*args, **kwargs)\n",
    "        self.linux_implementation = GetFileContentsLinuxImplementation(\n",
    "            filepath=filepath, name=self.name\n",
    "        )\n",
    "\n",
    "    def dispatch(self, node: Node) -> Task:\n",
    "        if node.architecture in {Architecture.LINUX_AMD64, Architecture.LINUX_ARM64}:\n",
    "            return self.linux_implementation\n",
    "        raise NotImplementedError(\n",
    "            f\"GetFileContents is not implemented for architecture: {node.architecture}\"\n",
    "        )\n",
    "\n",
    "class GetFileContentsLinuxImplementation(Task):\n",
    "    def __init__(self, filepath: str, *args, **kwargs):\n",
    "        super().__init__(*args, **kwargs)\n",
    "        self.filepath = filepath\n",
    "\n",
    "    # TODO: implement the run() function\n",
    "    def run(self):\n",
    "        # 1. set the arguments for subprocess.run to exectue the command `cat self.filepath`\n",
    "        # 2. set the optional argument `capture_output` to True so that stdout will be captured\n",
    "        result = subprocess.run(['cat', self.filepath], capture_output=True)\n",
    "        \n",
    "        if result.returncode != 0:\n",
    "            return Failure(\n",
    "                result.stdout.decode(\"utf-8\").strip()\n",
    "                + \"\\n\"\n",
    "                + result.stderr.decode(\"utf-8\").strip()\n",
    "            )\n",
    "\n",
    "        return result.stdout.decode(\"utf-8\")"
   ]
  },
  {
   "cell_type": "markdown",
   "id": "ea82a397",
   "metadata": {},
   "source": [
    "### Task 4\n",
    "Collect latency samples to 8.8.8.8 using the new tasks we've defined. The pipeline has already been defined for you below, but requires that the StartBackgroundPing and GetFileContents tasks are implemented correctly. Plot the results. The x-axis should be the ICMP sequence number (icmp_seq), and the y-axis should the latency in milliseconds. You should observe similar values to what you observed from Task 1."
   ]
  },
  {
   "cell_type": "code",
   "execution_count": 13,
   "id": "07c272a0",
   "metadata": {},
   "outputs": [],
   "source": [
    "pipeline = (\n",
    "    Pipeline()\n",
    "    .then(StartBackgroundPing(address='8.8.8.8', filepath=\"/tmp/background_ping_results1.txt\", name=\"background_ping\"))\n",
    "    .then(SleepTask(30))\n",
    "    .then(StopBackgroundPing(start_ping_task_name=\"background_ping\"))\n",
    "    .then(SleepTask(2))\n",
    "    .then(GetFileContents(filepath=\"/tmp/background_ping_results1.txt\"))\n",
    ")"
   ]
  },
  {
   "cell_type": "code",
   "execution_count": 14,
   "id": "815214e2",
   "metadata": {
    "scrolled": true
   },
   "outputs": [
    {
     "name": "stdout",
     "output_type": "stream",
     "text": [
      "ExperimentStatus.PREPARING\n",
      "ExperimentStatus.PREPARING\n",
      "ExperimentStatus.READY\n",
      "ExperimentStatus.RUNNING\n",
      "ExperimentStatus.RUNNING\n",
      "ExperimentStatus.RUNNING\n",
      "ExperimentStatus.FINISHED\n",
      "Node name: aws-fargate-A-cs190n7-1\n",
      "Error: None\n",
      "Result is: <class 'returns.result.Success'>\n",
      "background_ping: [<Success: 9>]\n",
      "ea645476-4c72-40a7-b7c1-590a46af6f08: [<Success: 30>]\n",
      "0b64ccad-5ccf-4afa-a5fc-451e6bb382b2: [<Success: b''>]\n",
      "0ef673ef-9f79-4113-aec0-0c4259247999: [<Success: 2>]\n",
      "3fc69fad-7563-4511-9cde-fc7ebdb87dbb: [<Success: PING 8.8.8.8 (8.8.8.8) 56(84) bytes of data.\n",
      "64 bytes from 8.8.8.8: icmp_seq=1 ttl=118 time=1.90 ms\n",
      "64 bytes from 8.8.8.8: icmp_seq=2 ttl=118 time=1.36 ms\n",
      "64 bytes from 8.8.8.8: icmp_seq=3 ttl=118 time=1.46 ms\n",
      "64 bytes from 8.8.8.8: icmp_seq=4 ttl=118 time=1.32 ms\n",
      "64 bytes from 8.8.8.8: icmp_seq=5 ttl=118 time=1.31 ms\n",
      "64 bytes from 8.8.8.8: icmp_seq=6 ttl=118 time=1.34 ms\n",
      "64 bytes from 8.8.8.8: icmp_seq=7 ttl=118 time=1.36 ms\n",
      "64 bytes from 8.8.8.8: icmp_seq=8 ttl=118 time=1.34 ms\n",
      "64 bytes from 8.8.8.8: icmp_seq=9 ttl=118 time=1.46 ms\n",
      "64 bytes from 8.8.8.8: icmp_seq=10 ttl=118 time=1.32 ms\n",
      "64 bytes from 8.8.8.8: icmp_seq=11 ttl=118 time=1.34 ms\n",
      "64 bytes from 8.8.8.8: icmp_seq=12 ttl=118 time=1.33 ms\n",
      "64 bytes from 8.8.8.8: icmp_seq=13 ttl=118 time=1.39 ms\n",
      "64 bytes from 8.8.8.8: icmp_seq=14 ttl=118 time=1.34 ms\n",
      "64 bytes from 8.8.8.8: icmp_seq=15 ttl=118 time=1.34 ms\n",
      "64 bytes from 8.8.8.8: icmp_seq=16 ttl=118 time=1.33 ms\n",
      "64 bytes from 8.8.8.8: icmp_seq=17 ttl=118 time=1.41 ms\n",
      "64 bytes from 8.8.8.8: icmp_seq=18 ttl=118 time=1.37 ms\n",
      "64 bytes from 8.8.8.8: icmp_seq=19 ttl=118 time=1.36 ms\n",
      "64 bytes from 8.8.8.8: icmp_seq=20 ttl=118 time=1.34 ms\n",
      "64 bytes from 8.8.8.8: icmp_seq=21 ttl=118 time=1.34 ms\n",
      "64 bytes from 8.8.8.8: icmp_seq=22 ttl=118 time=1.36 ms\n",
      "64 bytes from 8.8.8.8: icmp_seq=23 ttl=118 time=1.34 ms\n",
      "64 bytes from 8.8.8.8: icmp_seq=24 ttl=118 time=1.37 ms\n",
      "64 bytes from 8.8.8.8: icmp_seq=25 ttl=118 time=1.34 ms\n",
      "64 bytes from 8.8.8.8: icmp_seq=26 ttl=118 time=1.34 ms\n",
      "64 bytes from 8.8.8.8: icmp_seq=27 ttl=118 time=1.34 ms\n",
      "64 bytes from 8.8.8.8: icmp_seq=28 ttl=118 time=1.35 ms\n",
      "64 bytes from 8.8.8.8: icmp_seq=29 ttl=118 time=1.37 ms\n",
      "64 bytes from 8.8.8.8: icmp_seq=30 ttl=118 time=1.32 ms\n",
      "64 bytes from 8.8.8.8: icmp_seq=31 ttl=118 time=1.31 ms\n",
      "64 bytes from 8.8.8.8: icmp_seq=32 ttl=118 time=1.34 ms\n",
      "64 bytes from 8.8.8.8: icmp_seq=33 ttl=118 time=1.31 ms\n",
      "64 bytes from 8.8.8.8: icmp_seq=34 ttl=118 time=1.60 ms\n",
      ">]\n",
      "Parsed configuration: Gateway located on https://pinot.cs.ucsb.edu/netunicorn/gateway\n",
      "Current directory: /\n",
      "Execution graph loaded from a local file, executing.\n",
      "Execution is finished, start reporting results.\n",
      "\n"
     ]
    }
   ],
   "source": [
    "info = execute_pipeline(pipeline, working_node, 'background_ping_experiment')\n",
    "display_results(info)"
   ]
  },
  {
   "cell_type": "code",
   "execution_count": 15,
   "id": "7eb499b2",
   "metadata": {},
   "outputs": [
    {
     "data": {
      "image/png": "[encoded data removed]",
      "text/plain": [
       "<Figure size 864x432 with 1 Axes>"
      ]
     },
     "metadata": {
      "needs_background": "light"
     },
     "output_type": "display_data"
    }
   ],
   "source": [
    "# TODO\n",
    "# 1. Parse netUnicorn output\n",
    "# 2. Graph Results\n",
    "import re\n",
    "import matplotlib.pyplot as plt\n",
    "\n",
    "def parse_and_plot(output:str):\n",
    "    # Parse the data using regular expressions\n",
    "    pattern = r'icmp_seq=(\\d+).*time=([\\d.]+) ms'\n",
    "    seq_numbers = []\n",
    "    latencies = []\n",
    "\n",
    "    for line in output.split('\\n'):\n",
    "        match = re.search(pattern, line)\n",
    "        if match:\n",
    "            seq_num = int(match.group(1))\n",
    "            latency = float(match.group(2))\n",
    "            seq_numbers.append(seq_num)\n",
    "            latencies.append(latency)\n",
    "\n",
    "    # Create the plot\n",
    "    plt.figure(figsize=(12, 6))\n",
    "    plt.plot(seq_numbers, latencies, 'b.-', label='Latency')\n",
    "    plt.xlabel('ICMP Sequence Number')\n",
    "    plt.ylabel('Latency (ms)')\n",
    "    plt.title('Ping Latency to 8.8.8.8')\n",
    "    plt.grid(True)\n",
    "    plt.show()\n",
    "\n",
    "#     # Print some statistics\n",
    "#     print(f\"Average latency: {sum(latencies)/len(latencies):.2f} ms\")\n",
    "#     print(f\"Min latency: {min(latencies):.2f} ms\")\n",
    "#     print(f\"Max latency: {max(latencies):.2f} ms\")\n",
    "\n",
    "parse_and_plot(str(info))"
   ]
  },
  {
   "cell_type": "markdown",
   "id": "810d2966",
   "metadata": {},
   "source": [
    "### Task 5\n",
    "Now we will use the SpeedTest task to induce extra load on the network, and simultaneously collect our lateny samples. The pipeline has already been defined for you below, but requires that the StartBackgroundPing and GetFileContents tasks are implemented correctly. Plot the results alongside the results from Task 4. The x-axis should be the ICMP sequence number (icmp_seq), and the y-axis should the latency in milliseconds."
   ]
  },
  {
   "cell_type": "code",
   "execution_count": 16,
   "id": "a2fb28e7",
   "metadata": {},
   "outputs": [],
   "source": [
    "pipeline = (\n",
    "    Pipeline()\n",
    "    .then(StartBackgroundPing(address='8.8.8.8', filepath=\"/tmp/background_ping_results2.txt\", name=\"background_ping_under_load\"))\n",
    "    .then(SpeedTest())\n",
    "    .then(StopBackgroundPing(start_ping_task_name=\"background_ping_under_load\"))\n",
    "    .then(SleepTask(2))\n",
    "    .then(GetFileContents(filepath=\"/tmp/background_ping_results2.txt\"))\n",
    ")"
   ]
  },
  {
   "cell_type": "code",
   "execution_count": 17,
   "id": "bf702096",
   "metadata": {
    "scrolled": true
   },
   "outputs": [
    {
     "name": "stdout",
     "output_type": "stream",
     "text": [
      "ExperimentStatus.PREPARING\n",
      "ExperimentStatus.PREPARING\n",
      "ExperimentStatus.READY\n",
      "ExperimentStatus.RUNNING\n",
      "ExperimentStatus.RUNNING\n",
      "ExperimentStatus.RUNNING\n",
      "ExperimentStatus.RUNNING\n",
      "ExperimentStatus.FINISHED\n",
      "Node name: aws-fargate-A-cs190n7-1\n",
      "Error: None\n",
      "Result is: <class 'returns.result.Success'>\n",
      "background_ping_under_load: [<Success: 8>]\n",
      "994b73aa-57a3-4623-a05a-a487fa48dcb8: [<Success: {'ping': {'value': 3.141, 'unit': 'ms'}, 'download': {'value': 365.97, 'unit': 'Mbit/s'}, 'upload': {'value': 308.44, 'unit': 'Mbit/s'}, 'other': ['', '']}>]\n",
      "17f5fb8d-6642-4d60-bb09-0afc048e4133: [<Success: b''>]\n",
      "5b0267e8-c245-4d69-9c71-b5d25617d8a5: [<Success: 2>]\n",
      "cc8d1ed1-b67f-4912-a544-4a5a8f7e8478: [<Success: PING 8.8.8.8 (8.8.8.8) 56(84) bytes of data.\n",
      "64 bytes from 8.8.8.8: icmp_seq=1 ttl=118 time=1.35 ms\n",
      "64 bytes from 8.8.8.8: icmp_seq=2 ttl=118 time=1.35 ms\n",
      "64 bytes from 8.8.8.8: icmp_seq=3 ttl=118 time=1.35 ms\n",
      "64 bytes from 8.8.8.8: icmp_seq=4 ttl=118 time=1.37 ms\n",
      "64 bytes from 8.8.8.8: icmp_seq=5 ttl=118 time=1.36 ms\n",
      "64 bytes from 8.8.8.8: icmp_seq=6 ttl=118 time=1.36 ms\n",
      "64 bytes from 8.8.8.8: icmp_seq=7 ttl=118 time=1.37 ms\n",
      "64 bytes from 8.8.8.8: icmp_seq=8 ttl=118 time=1.42 ms\n",
      "64 bytes from 8.8.8.8: icmp_seq=9 ttl=118 time=1.38 ms\n",
      "64 bytes from 8.8.8.8: icmp_seq=10 ttl=118 time=1.37 ms\n",
      "64 bytes from 8.8.8.8: icmp_seq=11 ttl=118 time=1.38 ms\n",
      "64 bytes from 8.8.8.8: icmp_seq=12 ttl=118 time=1.41 ms\n",
      "64 bytes from 8.8.8.8: icmp_seq=13 ttl=118 time=1.35 ms\n",
      "64 bytes from 8.8.8.8: icmp_seq=14 ttl=118 time=1.37 ms\n",
      "64 bytes from 8.8.8.8: icmp_seq=15 ttl=118 time=1.37 ms\n",
      "64 bytes from 8.8.8.8: icmp_seq=16 ttl=118 time=1.36 ms\n",
      "64 bytes from 8.8.8.8: icmp_seq=17 ttl=118 time=1.36 ms\n",
      "64 bytes from 8.8.8.8: icmp_seq=18 ttl=118 time=1.37 ms\n",
      "64 bytes from 8.8.8.8: icmp_seq=19 ttl=118 time=1.40 ms\n",
      "64 bytes from 8.8.8.8: icmp_seq=20 ttl=118 time=1.36 ms\n",
      "64 bytes from 8.8.8.8: icmp_seq=21 ttl=118 time=1.39 ms\n",
      "64 bytes from 8.8.8.8: icmp_seq=22 ttl=118 time=1.36 ms\n",
      "64 bytes from 8.8.8.8: icmp_seq=23 ttl=118 time=1.37 ms\n",
      "64 bytes from 8.8.8.8: icmp_seq=24 ttl=118 time=1.37 ms\n",
      "64 bytes from 8.8.8.8: icmp_seq=25 ttl=118 time=1.38 ms\n",
      "64 bytes from 8.8.8.8: icmp_seq=26 ttl=118 time=1.44 ms\n",
      "64 bytes from 8.8.8.8: icmp_seq=27 ttl=118 time=1.36 ms\n",
      "64 bytes from 8.8.8.8: icmp_seq=28 ttl=118 time=1.35 ms\n",
      "64 bytes from 8.8.8.8: icmp_seq=29 ttl=118 time=1.35 ms\n",
      "64 bytes from 8.8.8.8: icmp_seq=30 ttl=118 time=1.36 ms\n",
      "64 bytes from 8.8.8.8: icmp_seq=31 ttl=118 time=1.35 ms\n",
      "64 bytes from 8.8.8.8: icmp_seq=32 ttl=118 time=1.35 ms\n",
      "64 bytes from 8.8.8.8: icmp_seq=33 ttl=118 time=1.36 ms\n",
      "64 bytes from 8.8.8.8: icmp_seq=34 ttl=118 time=1.39 ms\n",
      "64 bytes from 8.8.8.8: icmp_seq=35 ttl=118 time=1.37 ms\n",
      "64 bytes from 8.8.8.8: icmp_seq=36 ttl=118 time=2.85 ms\n",
      "64 bytes from 8.8.8.8: icmp_seq=37 ttl=118 time=1.36 ms\n",
      "64 bytes from 8.8.8.8: icmp_seq=38 ttl=118 time=1.39 ms\n",
      "64 bytes from 8.8.8.8: icmp_seq=39 ttl=118 time=1.33 ms\n",
      "64 bytes from 8.8.8.8: icmp_seq=40 ttl=118 time=1.39 ms\n",
      "64 bytes from 8.8.8.8: icmp_seq=41 ttl=118 time=1.36 ms\n",
      "64 bytes from 8.8.8.8: icmp_seq=42 ttl=118 time=1.37 ms\n",
      "64 bytes from 8.8.8.8: icmp_seq=43 ttl=118 time=1.40 ms\n",
      "64 bytes from 8.8.8.8: icmp_seq=44 ttl=118 time=1.47 ms\n",
      "64 bytes from 8.8.8.8: icmp_seq=45 ttl=118 time=1.37 ms\n",
      "64 bytes from 8.8.8.8: icmp_seq=46 ttl=118 time=2.66 ms\n",
      "64 bytes from 8.8.8.8: icmp_seq=47 ttl=118 time=1.43 ms\n",
      "64 bytes from 8.8.8.8: icmp_seq=48 ttl=118 time=1.39 ms\n",
      "64 bytes from 8.8.8.8: icmp_seq=49 ttl=118 time=1.56 ms\n",
      "64 bytes from 8.8.8.8: icmp_seq=50 ttl=118 time=1.37 ms\n",
      ">]\n",
      "Parsed configuration: Gateway located on https://pinot.cs.ucsb.edu/netunicorn/gateway\n",
      "Current directory: /\n",
      "Execution graph loaded from a local file, executing.\n",
      "Execution is finished, start reporting results.\n",
      "\n"
     ]
    }
   ],
   "source": [
    "info_with_load = execute_pipeline(pipeline, working_node, 'background_ping_under_load_experiment')\n",
    "display_results(info_with_load)"
   ]
  },
  {
   "cell_type": "code",
   "execution_count": 18,
   "id": "1e6b28fa",
   "metadata": {},
   "outputs": [],
   "source": [
    "import re\n",
    "import matplotlib.pyplot as plt\n",
    "\n",
    "def parse_and_plot(output1: str, output2: str, label1: str = \"Latency without Load\", label2: str = \"Latency with Load\"):\n",
    "    # Regular expression to match ICMP sequence and latency time in milliseconds\n",
    "    pattern = r'icmp_seq=(\\d+).*time=([\\d.]+) ms'\n",
    "\n",
    "    # Parse the first output\n",
    "    seq_numbers1 = []\n",
    "    latencies1 = []\n",
    "    for line in output1.split('\\n'):\n",
    "        match = re.search(pattern, line)\n",
    "        if match:\n",
    "            seq_num = int(match.group(1))\n",
    "            latency = float(match.group(2))\n",
    "            seq_numbers1.append(seq_num)\n",
    "            latencies1.append(latency)\n",
    "\n",
    "    # Parse the second output\n",
    "    seq_numbers2 = []\n",
    "    latencies2 = []\n",
    "    for line in output2.split('\\n'):\n",
    "        match = re.search(pattern, line)\n",
    "        if match:\n",
    "            seq_num = int(match.group(1))\n",
    "            latency = float(match.group(2))\n",
    "            seq_numbers2.append(seq_num)\n",
    "            latencies2.append(latency)\n",
    "\n",
    "    # Create the plot with both sets of data\n",
    "    plt.figure(figsize=(12, 6))\n",
    "    \n",
    "    # Plot the first set (without load)\n",
    "    plt.plot(seq_numbers1, latencies1, 'b.-', label=label1)\n",
    "    \n",
    "    # Plot the second set (with load)\n",
    "    plt.plot(seq_numbers2, latencies2, 'r.-', label=label2)\n",
    "    \n",
    "    # Add labels and title\n",
    "    plt.xlabel('ICMP Sequence Number')\n",
    "    plt.ylabel('Latency (ms)')\n",
    "    plt.title('Ping Latency to 8.8.8.8 with and without Network Load')\n",
    "    plt.grid(True)\n",
    "    plt.legend()\n",
    "    plt.show()"
   ]
  },
  {
   "cell_type": "code",
   "execution_count": 19,
   "id": "5b114c9c",
   "metadata": {},
   "outputs": [
    {
     "data": {
      "image/png": "[encoded data removed]",
      "text/plain": [
       "<Figure size 864x432 with 1 Axes>"
      ]
     },
     "metadata": {
      "needs_background": "light"
     },
     "output_type": "display_data"
    }
   ],
   "source": [
    "# TODO\n",
    "# 1. Parse netUnicorn output\n",
    "# 2. Graph Results alongside Task 4\n",
    "# Parse the data using regular expressions\n",
    "parse_and_plot(str(info), str(info_with_load), \"Latency without Load\", \"Latency with Network Load\")\n",
    "\n"
   ]
  },
  {
   "cell_type": "markdown",
   "id": "aba261c5",
   "metadata": {},
   "source": [
    "### Task 6\n",
    "Do you observe a difference in latencies between Task 4 and Task 5? If so, what is the reason that we observe an increased latency when we are simultaneously running a speedtest?"
   ]
  },
  {
   "cell_type": "markdown",
   "id": "e69009ff",
   "metadata": {},
   "source": [
    "Explain your answer to Task 6 below."
   ]
  },
  {
   "cell_type": "markdown",
   "id": "e8806eb3",
   "metadata": {},
   "source": [
    "### Observations\n",
    "\n",
    "1. **Increased Average Latency with Load**: The red line, representing latency with network load, generally shows higher values compared to the blue line (without load). This suggests that network congestion impacts latency.\n",
    "\n",
    "2. **Latency Spikes under Load**: The red line has noticeable spikes around ICMP sequence numbers 30 and 45, where latency jumps significantly (up to around 2.8 ms). These spikes are not present in the latency data without load, indicating that the `SpeedTest` task (used to generate load) creates periods of high congestion, causing packets to experience longer delays.\n",
    "\n",
    "3. **Stable Latency without Load**: The blue line remains relatively flat, with only minor fluctuations. This demonstrates that, in the absence of competing network traffic, the latency to Google’s DNS (8.8.8.8) is stable and low, averaging around 1.4 ms.\n",
    "\n",
    "### Explanation of Increased Latency under Load\n",
    "\n",
    "The increased latency and the presence of latency spikes in the red line can be attributed to the following reasons:\n",
    "\n",
    "1. **Network Congestion**: Running the `SpeedTest` task generates a large amount of network traffic as it measures upload and download speeds. This traffic competes for bandwidth with the ping packets, causing congestion. As a result, ping packets are delayed, leading to increased latency.\n",
    "\n",
    "2. **Queueing Delays**: Due to the heavy network load from `SpeedTest`, packets are queued in the network stack. This queueing effect is especially visible at points where latency spikes, indicating that packets are waiting longer to be transmitted.\n",
    "\n",
    "3. **Resource Contention**: When the network is under load, resources such as the router buffer and network interface queues are heavily used by the `SpeedTest` traffic, resulting in delays for the ping packets.\n",
    "\n",
    "### Summary\n",
    "\n",
    "This experiment clearly demonstrates how network-intensive tasks can impact latency-sensitive applications. The additional load caused by `SpeedTest` leads to both increased average latency and occasional high spikes in latency. This highlights the importance of considering network load when designing or testing latency-sensitive applications, as even intermittent heavy traffic can lead to noticeable delays."
   ]
  }
 ],
 "metadata": {
  "kernelspec": {
   "display_name": "Python 3 (ipykernel)",
   "language": "python",
   "name": "python3"
  },
  "language_info": {
   "codemirror_mode": {
    "name": "ipython",
    "version": 3
   },
   "file_extension": ".py",
   "mimetype": "text/x-python",
   "name": "python",
   "nbconvert_exporter": "python",
   "pygments_lexer": "ipython3",
   "version": "3.10.12"
  }
 },
 "nbformat": 4,
 "nbformat_minor": 5
}
